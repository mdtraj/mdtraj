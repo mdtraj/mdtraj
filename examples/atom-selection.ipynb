{
 "metadata": {
  "name": "",
  "signature": "sha256:734f6d309a074d9f79b56eb3ca4f384ce6e3cdc8aabc4cdd420fe886f2bb3998"
 },
 "nbformat": 3,
 "nbformat_minor": 0,
 "worksheets": [
  {
   "cells": [
    {
     "cell_type": "markdown",
     "metadata": {},
     "source": [
      "Basics\n",
      "---\n",
      "In this example, we'll go over the basics of atom and reside selection in MDTraj. First let's load up an example trajectory."
     ]
    },
    {
     "cell_type": "code",
     "collapsed": false,
     "input": [
      "import mdtraj as md\n",
      "traj = md.load('ala2.h5')\n",
      "print traj"
     ],
     "language": "python",
     "metadata": {},
     "outputs": []
    },
    {
     "cell_type": "markdown",
     "metadata": {},
     "source": [
      "We can also more directly find out how many atoms or residues there are by using `traj.n_atoms` and `traj.n_residues`."
     ]
    },
    {
     "cell_type": "code",
     "collapsed": false,
     "input": [
      "print 'How many atoms? %s' % traj.n_atoms\n",
      "print 'How many residues? %s' % traj.n_residues"
     ],
     "language": "python",
     "metadata": {},
     "outputs": []
    },
    {
     "cell_type": "markdown",
     "metadata": {},
     "source": [
      "We can also manipulate the atom positions by working with `traj.xyz`, which is a NumPy array contain the xyz coordinated of each atom with dimensions (n_frames, n_atoms, 3). Let's find the 3D coordinates of the tenth atom in frame 5."
     ]
    },
    {
     "cell_type": "code",
     "collapsed": false,
     "input": [
      "frame_idx = 4 # zero indexed frame number\n",
      "atom_idx = 9 # zero indexed atom index\n",
      "print 'Where is the fifth atom at the tenth frame?'\n",
      "print 'x: %s\\ty: %s\\tz: %s' % tuple(traj.xyz[frame_idx, atom_idx,:])"
     ],
     "language": "python",
     "metadata": {},
     "outputs": []
    },
    {
     "cell_type": "markdown",
     "metadata": {},
     "source": [
      "Topology Object\n",
      "---"
     ]
    },
    {
     "cell_type": "markdown",
     "metadata": {},
     "source": [
      "As mentioned previously in the introduction, every `Trajectory` object contains a `Topology`. The `Topology` of a `Trajectory` contains all the connectivity information of your system and specific chain, residue, and atom information."
     ]
    },
    {
     "cell_type": "code",
     "collapsed": false,
     "input": [
      "topology = traj.topology\n",
      "print topology"
     ],
     "language": "python",
     "metadata": {},
     "outputs": []
    },
    {
     "cell_type": "markdown",
     "metadata": {},
     "source": [
      "With the topology object we can select a certain `atom`, or loop through them all. (Note: everything is zero-indexed)"
     ]
    },
    {
     "cell_type": "code",
     "collapsed": false,
     "input": [
      "print 'Fifth atom: %s' % topology.atom(4)\n",
      "print 'All atoms: %s' % [atom for atom in topology.atoms]"
     ],
     "language": "python",
     "metadata": {},
     "outputs": []
    },
    {
     "cell_type": "markdown",
     "metadata": {},
     "source": [
      "The same goes for residues."
     ]
    },
    {
     "cell_type": "code",
     "collapsed": false,
     "input": [
      "print 'Second residue: %s' % traj.topology.residue(1)\n",
      "print 'All residues: %s' % [residue for residue in traj.topology.residues]"
     ],
     "language": "python",
     "metadata": {},
     "outputs": []
    },
    {
     "cell_type": "markdown",
     "metadata": {},
     "source": [
      "Additionally, every `atom` and `residue` is also an object, and has it's own set of properties. Here is a simple example that showcases just a few."
     ]
    },
    {
     "cell_type": "code",
     "collapsed": false,
     "input": [
      "atom = topology.atom(10)\n",
      "print '''Hi! I am the %sth atom, and my name is %s. \n",
      "I am a %s atom with %s bonds. \n",
      "I am part of an %s residue.''' % ( atom.index, atom.name, atom.element.name, atom.n_bonds, atom.residue.name)                                                                                                "
     ],
     "language": "python",
     "metadata": {},
     "outputs": []
    },
    {
     "cell_type": "markdown",
     "metadata": {},
     "source": [
      "There are also more complex properties, like `atom.is_sidechain` or `residue.is_protein`, which allow for more powerful selections."
     ]
    },
    {
     "cell_type": "markdown",
     "metadata": {},
     "source": [
      "Putting Everything Together\n",
      "---"
     ]
    },
    {
     "cell_type": "markdown",
     "metadata": {},
     "source": [
      "Hopefully, you can see how these properties can be combined with Python's filtered list functionality. Let's say we want the indices of all carbon atoms in the sidechains of our molecule. We could try something like this."
     ]
    },
    {
     "cell_type": "code",
     "collapsed": false,
     "input": [
      "print [atom.index for atom in topology.atoms if atom.element.symbol is 'C' and atom.is_sidechain]"
     ],
     "language": "python",
     "metadata": {},
     "outputs": []
    },
    {
     "cell_type": "markdown",
     "metadata": {},
     "source": [
      "Or maybe we want all even-indexed residues in the first chain (Although this example only has the one chain....)."
     ]
    },
    {
     "cell_type": "code",
     "collapsed": false,
     "input": [
      "print [residue for residue in topology.chain(0).residues if mod(residue.index,2) == 0]"
     ],
     "language": "python",
     "metadata": {},
     "outputs": []
    },
    {
     "cell_type": "markdown",
     "metadata": {},
     "source": [
      "Atom Selection Language\n",
      "---"
     ]
    },
    {
     "cell_type": "markdown",
     "metadata": {},
     "source": [
      "If you're hesistant about programming filtered lists like the ones above, MDTraj also features a rich atom selection language, similar to that of PyMol and VMD. You can access it by using `topology.select`. Let's find all atoms in the last two residues."
     ]
    },
    {
     "cell_type": "code",
     "collapsed": false,
     "input": [
      "print topology.select('resid 1 to 2')"
     ],
     "language": "python",
     "metadata": {},
     "outputs": []
    },
    {
     "cell_type": "markdown",
     "metadata": {},
     "source": [
      "You can also do more complex operations. Here, we're looking for all nitrogen atoms in the backbone."
     ]
    },
    {
     "cell_type": "code",
     "collapsed": false,
     "input": [
      "print topology.select('name N and backbone')"
     ],
     "language": "python",
     "metadata": {},
     "outputs": []
    },
    {
     "cell_type": "markdown",
     "metadata": {},
     "source": [
      "If you ever want to see the code that generates these results you can use `select_expression`, which will yield a string represention of the atom selection code."
     ]
    },
    {
     "cell_type": "code",
     "collapsed": false,
     "input": [
      "selection = topology.select_expression('name CA and resid 1 to 2')\n",
      "print selection"
     ],
     "language": "python",
     "metadata": {},
     "outputs": []
    }
   ],
   "metadata": {}
  }
 ]
}
