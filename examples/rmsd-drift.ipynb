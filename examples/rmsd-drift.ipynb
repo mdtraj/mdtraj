{
 "cells": [
  {
   "cell_type": "code",
   "execution_count": null,
   "metadata": {
    "collapsed": false
   },
   "outputs": [],
   "source": [
    "%matplotlib inline\n",
    "from __future__ import print_function\n",
    "import mdtraj as md"
   ]
  },
  {
   "cell_type": "markdown",
   "metadata": {},
   "source": [
    "Find two files that are distributed with MDTraj for testing purposes -- \n",
    "we can us them to make our plot"
   ]
  },
  {
   "cell_type": "code",
   "execution_count": null,
   "metadata": {
    "collapsed": false
   },
   "outputs": [],
   "source": [
    "import mdtraj.testing\n",
    "crystal_fn = mdtraj.testing.get_fn('native.pdb')\n",
    "trajectory_fn = mdtraj.testing.get_fn('frame0.xtc')"
   ]
  },
  {
   "cell_type": "code",
   "execution_count": null,
   "metadata": {
    "collapsed": false
   },
   "outputs": [],
   "source": [
    "crystal = md.load(crystal_fn)\n",
    "trajectory = md.load(trajectory_fn, top=crystal)  # load the xtc. the crystal structure defines the topology\n",
    "trajectory"
   ]
  },
  {
   "cell_type": "markdown",
   "metadata": {},
   "source": [
    "RMSD with exchangeable hydrogen atoms is generally not a good idea\n",
    "so let's take a look at just the heavy atoms"
   ]
  },
  {
   "cell_type": "code",
   "execution_count": null,
   "metadata": {
    "collapsed": false
   },
   "outputs": [],
   "source": [
    "rmsds_to_crystal = md.rmsd(trajectory, crystal, 0)\n",
    "heavy_atoms = [atom.index for atom in crystal.topology.atoms if atom.element.symbol != 'H']\n",
    "heavy_rmds_to_crystal = md.rmsd(trajectory, crystal, 0, atom_indices=heavy_atoms)"
   ]
  },
  {
   "cell_type": "code",
   "execution_count": null,
   "metadata": {
    "collapsed": false
   },
   "outputs": [],
   "source": [
    "from matplotlib.pylab import *\n",
    "\n",
    "figure()\n",
    "plot(trajectory.time, rmsds_to_crystal, 'r', label='all atom')\n",
    "plot(trajectory.time, heavy_rmds_to_crystal, 'b', label='heavy atom')\n",
    "legend()\n",
    "title('RMSDs to crystal')\n",
    "xlabel('simulation time (ps)')\n",
    "ylabel('RMSD (nm)')"
   ]
  },
  {
   "cell_type": "code",
   "execution_count": null,
   "metadata": {
    "collapsed": true
   },
   "outputs": [],
   "source": []
  },
  {
   "cell_type": "code",
   "execution_count": null,
   "metadata": {
    "collapsed": true
   },
   "outputs": [],
   "source": []
  }
 ],
 "metadata": {
  "kernelspec": {
   "display_name": "Python 3",
   "language": "python",
   "name": "python3"
  },
  "language_info": {
   "codemirror_mode": {
    "name": "ipython",
    "version": 3
   },
   "file_extension": ".py",
   "mimetype": "text/x-python",
   "name": "python",
   "nbconvert_exporter": "python",
   "pygments_lexer": "ipython3",
   "version": "3.4.2"
  }
 },
 "nbformat": 4,
 "nbformat_minor": 0
}
