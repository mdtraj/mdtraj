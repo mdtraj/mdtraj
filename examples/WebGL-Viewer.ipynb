{
 "metadata": {
  "name": "",
  "signature": "sha256:06ff6b74dfcc1b8e0f357c45b8a9680ff14a52f1eb8523f98d1cc050d4d2b8ad"
 },
 "nbformat": 3,
 "nbformat_minor": 0,
 "worksheets": [
  {
   "cells": [
    {
     "cell_type": "markdown",
     "metadata": {},
     "source": [
      "## Interactive WebGL trajectory widget\n",
      "\n",
      "Note: this feature requires a 'running' notebook, connected to a live kernel. It will not work with a staticly rendered display. For an introduction to the IPython interactive widget system and its capabilities, see this talk by Brian Granger\n",
      "http://player.vimeo.com/video/79832657#t=30m\n"
     ]
    },
    {
     "cell_type": "markdown",
     "metadata": {},
     "source": [
      "Let's start by just loading up a PDB file from the RCSB"
     ]
    },
    {
     "cell_type": "code",
     "collapsed": false,
     "input": [
      "import mdtraj as md\n",
      "traj = md.load_pdb('http://www.rcsb.org/pdb/files/2M6K.pdb')\n",
      "print traj"
     ],
     "language": "python",
     "metadata": {},
     "outputs": [
      {
       "output_type": "stream",
       "stream": "stdout",
       "text": [
        "<mdtraj.Trajectory with 30 frames, 4462 atoms, 292 residues, and unitcells>\n"
       ]
      }
     ],
     "prompt_number": 1
    },
    {
     "cell_type": "markdown",
     "metadata": {},
     "source": [
      "To enable these features, we first need to run `enable_notebook` to initialize\n",
      "the required javascript."
     ]
    },
    {
     "cell_type": "code",
     "collapsed": false,
     "input": [
      "from mdtraj.html import TrajectoryView, enable_notebook\n",
      "enable_notebook()"
     ],
     "language": "python",
     "metadata": {},
     "outputs": [
      {
       "javascript": [
        "\n",
        "require.config({\n",
        "    paths: {\n",
        "        'three': '//cdnjs.cloudflare.com/ajax/libs/three.js/r68/three.min',\n",
        "        'iview' : '/nbextensions/iview',\n",
        "        'jqueryui': '//ajax.googleapis.com/ajax/libs/jqueryui/1.11.1/jquery-ui.min',\n",
        "    },\n",
        "    shim: {\n",
        "        three: {\n",
        "            exports: 'THREE'\n",
        "        },\n",
        "        iview: {\n",
        "            deps: ['three'],\n",
        "            exports: 'iview'\n",
        "        },\n",
        "        jqueryui: {\n",
        "            exports: \"$\"\n",
        "        },\n",
        "    },\n",
        "});\n"
       ],
       "metadata": {},
       "output_type": "display_data",
       "text": [
        "<IPython.core.display.Javascript at 0x7f3fbdd97950>"
       ]
      },
      {
       "javascript": [
        "/*\n",
        "This script creates and registers the TrajectoryView widget on the\n",
        "browser side. Basically, it's a small div, with the RMol viewer (WebGL-based\n",
        "protein visualization) hooked in. Changes to the class on the python side\n",
        "propagate here and modify `this.model.attributes`, and re-call `update`.\n",
        "*/\n",
        "\n",
        "require([\n",
        "    \"jquery\",\n",
        "    \"widgets/js/widget\",\n",
        "    \"iview\",\n",
        "    // only loaded, not used\n",
        "    'jqueryui',\n",
        "    ],\n",
        "function($, WidgetManager, iview) {\n",
        "    var HEIGHT = 300,\n",
        "        WIDTH = 300,\n",
        "        HEIGHT_PX = '300px',\n",
        "        WIDTH_PX = '300px';\n",
        "\n",
        "    var TrajectoryView = IPython.DOMWidgetView.extend({\n",
        "        render : function() {\n",
        "            var canvas = $(\"<canvas/>\").height(HEIGHT).width(WIDTH);\n",
        "            var iv = new iview(canvas);\n",
        "            var container = $('<div/>').css({width: HEIGHT_PX, height: WIDTH_PX})\n",
        "                .resizable({\n",
        "                    aspectRatio: 1,\n",
        "                    resize: function(event, ui) {\n",
        "                        iv.renderer.setSize(ui.size.width, ui.size.height);\n",
        "                    },\n",
        "\t\t    stop : function(event, ui) {\n",
        "\t\t\tiv.render()\n",
        "\t\t    },\n",
        "                });\n",
        "            container.append(canvas);\n",
        "            this.setElement(container);\n",
        "            this.iv = iv;\n",
        "            this.setupFullScreen(canvas, container);\n",
        "            this.update();\n",
        "\n",
        "            // debugging\n",
        "            window.iv = this.iv;\n",
        "            window.model = this.model;\n",
        "        },\n",
        "\n",
        "        update : function () {\n",
        "            /* This could definitely be done more efficiently. Right now we're\n",
        "            just recreating and redrawing everything. For the (presumably)\n",
        "            common use case where you just want to update the positions to the\n",
        "            next frame in a trajectory, there's no real need to redefine the\n",
        "            topology and representation.\n",
        "            */\n",
        "\n",
        "            console.log('TrajectoryView.update');\n",
        "\n",
        "            this.iv.loadTopology(this.model.attributes._topology);\n",
        "            this.iv.loadCoordinates(this.model.attributes._frameData.coordinates);\n",
        "            this.iv.loadAtomAttributes(this.model.attributes._frameData.secondaryStructure);\n",
        "\n",
        "            var options = {\n",
        "                'camera': this.model.attributes.camera,\n",
        "                'background': this.model.attributes.background,\n",
        "                'colorBy': this.model.attributes.colorBy,\n",
        "                'primaryStructure': this.model.attributes.primaryStructure,\n",
        "                'secondaryStructure': this.model.attributes.secondaryStructure\n",
        "            };\n",
        "            this.iv.zoomInto(options);\n",
        "            return TrajectoryView.__super__.update.apply(this);\n",
        "        },\n",
        "\n",
        "\n",
        "        setupFullScreen : function(canvas, container) {\n",
        "            // currently only works in chrome. need other prefixes for firefox\n",
        "            var iv = this.iv;\n",
        "            canvas.dblclick(function () {\n",
        "            \tif ('webkitCancelFullScreen' in document) {\n",
        "                    if (!document.webkitIsFullScreen) {\n",
        "\t\t\tvar minHW = Math.min(screen.width, screen.height);\n",
        "                \tcanvas[0].webkitRequestFullScreen();\n",
        "                        iv.renderer.setSize(minHW, minHW);\n",
        "                        iv.render();\n",
        "                    }\n",
        "                } else if ('mozCancelFullScreen' in document) {\n",
        "                    if (!document.mozIsFullScreen) {\n",
        "                        var minHW = Math.min(screen.width, screen.height);\n",
        "                \tcanvas[0].mozRequestFullScreen();\n",
        "                        iv.renderer.setSize(minHW, minHW);\n",
        "                        iv.render();\n",
        "                    }\n",
        "\t\t}\n",
        "            });\n",
        "\n",
        "            if ('webkitCancelFullScreen' in document) {\n",
        "\t\tdocument.addEventListener(\"webkitfullscreenchange\", function() {\n",
        "                    if (!document.webkitIsFullScreen) {\n",
        "\t\t\tcontainer.css({width: HEIGHT_PX, height: WIDTH_PX});\n",
        "\t\t\tiv.renderer.setSize(WIDTH, HEIGHT);\n",
        "\t\t\tiv.render();\n",
        "                    }\n",
        "\t\t});\n",
        "\t    } else if ('mozCancelFullScreen' in document) {\n",
        "\t\tdocument.addEventListener(\"mozfullscreenchange\", function() {\n",
        "                    if (!document.mozIsFullScreen) {\n",
        "\t\t\tiv.renderer.setSize(WIDTH, HEIGHT);\n",
        "\t\t\tcontainer.css({width: HEIGHT_PX, height: WIDTH_PX});\n",
        "\t\t\tiv.render();\n",
        "\n",
        "                    }\n",
        "\t\t});\n",
        "\t    }\n",
        "        },\n",
        "    });\n",
        "\n",
        "\n",
        "    WidgetManager.register_widget_view('TrajectoryView', TrajectoryView);\n",
        "});\n"
       ],
       "metadata": {},
       "output_type": "display_data",
       "text": [
        "<IPython.core.display.Javascript at 0x7f3fb45d3a50>"
       ]
      },
      {
       "javascript": [
        "require([\"widgets/js/widget\"], function(WidgetManager){\n",
        "    var ImageButtonView = IPython.DOMWidgetView.extend({\n",
        "        render : function(){\n",
        "            // Called when view is rendered.\n",
        "            this.setElement($(\"<img />\"));\n",
        "            this.update(); // Set defaults.\n",
        "        },\n",
        "\n",
        "        update : function(){\n",
        "            // Update the contents of this view\n",
        "            //\n",
        "            // Called when the model is changed.  The model may have been \n",
        "            // changed by another view or by a state update from the back-end.\n",
        "            var image_src = 'data:image/' + this.model.get('format') + ';base64,' + this.model.get('_b64value');\n",
        "            console.log(this.model);\n",
        "            this.$el.attr('src', image_src);\n",
        "\n",
        "            var width = this.model.get('width');\n",
        "            if (width !== undefined && width.length > 0) {\n",
        "                this.$el.attr('width', width);\n",
        "            } else {\n",
        "                this.$el.removeAttr('width');\n",
        "            }\n",
        "            \n",
        "            var height = this.model.get('height');\n",
        "            if (height !== undefined && height.length > 0) {\n",
        "                this.$el.attr('height', height);\n",
        "            } else {\n",
        "                this.$el.removeAttr('height');\n",
        "            }\n",
        "            return ImageButtonView.__super__.update.apply(this);\n",
        "        },\n",
        "\n",
        "        events: {\n",
        "            // Dictionary of events and their handlers.\n",
        "            'click': '_handle_click',\n",
        "        },\n",
        "        \n",
        "        _handle_click: function(ev) {\n",
        "            // Handles when the button is clicked.\n",
        "            console.log(this.$el.offset());\n",
        "            var top = this.$el.offset().top;\n",
        "            var left = this.$el.offset().left;\n",
        "            var xAspect = this.$el.width() / this.$el[0].naturalWidth;\n",
        "            var yAspect = this.$el.height() / this.$el[0].naturalHeight;\n",
        "\n",
        "            \n",
        "            var x = (ev.pageX - left) / xAspect;\n",
        "            var y = (this.$el.height() - (ev.pageY - top)) / yAspect;\n",
        "            this.send({event: 'click', 'mouseX': x, 'mouseY': y});\n",
        "        },\n",
        "    });\n",
        "\n",
        "    // Register the DatePickerView with the widget manager.\n",
        "    WidgetManager.register_widget_view('ImageButtonView', ImageButtonView);\n",
        "});"
       ],
       "metadata": {},
       "output_type": "display_data",
       "text": [
        "<IPython.core.display.Javascript at 0x7f3fb45d3dd0>"
       ]
      }
     ],
     "prompt_number": 2
    },
    {
     "cell_type": "markdown",
     "metadata": {},
     "source": [
      "The WebGL viewer engine is called iview, and is introduced in the following [paper](http://www.biomedcentral.com/1471-2105/15/56): Li, Hongjian, et al. \"iview: an interactive WebGL visualizer for protein-ligand complex.\" BMC Bioinformatics 15.1 (2014): 56."
     ]
    },
    {
     "cell_type": "code",
     "collapsed": false,
     "input": [
      "# Controls:\n",
      "#  - default mouse to rotate.\n",
      "#  - ctrl to translate\n",
      "#  - shift to zoom (or use wheel)\n",
      "#  - shift+ctrl to change the fog\n",
      "#  - double click to toggle full screen\n",
      "\n",
      "widget = TrajectoryView(traj, secondaryStructure='ribbon')\n",
      "widget"
     ],
     "language": "python",
     "metadata": {},
     "outputs": [],
     "prompt_number": 3
    },
    {
     "cell_type": "markdown",
     "metadata": {},
     "source": [
      "We can even animate through the trajectory simply by updating the widget's frame attribute"
     ]
    },
    {
     "cell_type": "code",
     "collapsed": false,
     "input": [
      "import time\n",
      "for i in range(met_enk.n_frames):\n",
      "    widget.frame = i\n",
      "    time.sleep(0.1)"
     ],
     "language": "python",
     "metadata": {},
     "outputs": []
    },
    {
     "cell_type": "code",
     "collapsed": false,
     "input": [],
     "language": "python",
     "metadata": {},
     "outputs": []
    }
   ],
   "metadata": {}
  }
 ]
}