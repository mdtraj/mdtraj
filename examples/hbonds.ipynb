{
 "cells": [
  {
   "cell_type": "markdown",
   "metadata": {},
   "source": [
    "# Baker-Hubbard Hydrogen Bond Identification"
   ]
  },
  {
   "cell_type": "code",
   "execution_count": 3,
   "metadata": {},
   "outputs": [],
   "source": [
    "%matplotlib inline\n",
    "import itertools\n",
    "\n",
    "import matplotlib.pyplot as plt\n",
    "import mdtraj as md\n",
    "import mdtraj.testing"
   ]
  },
  {
   "cell_type": "markdown",
   "metadata": {},
   "source": [
    "Load up some example data. This is a little 28 residue peptide"
   ]
  },
  {
   "cell_type": "code",
   "execution_count": 4,
   "metadata": {},
   "outputs": [
    {
     "name": "stdout",
     "output_type": "stream",
     "text": [
      "<mdtraj.Trajectory with 20 frames, 423 atoms, 28 residues, without unitcells>\n"
     ]
    }
   ],
   "source": [
    "t = md.load_pdb(\"http://www.rcsb.org/pdb/files/2EQQ.pdb\")\n",
    "print(t)"
   ]
  },
  {
   "cell_type": "markdown",
   "metadata": {},
   "source": [
    "`md.baker_hubbard` identifies hydrogen bonds baced on cutoffs\n",
    "for the Donor-H...Acceptor distance and angle. The criterion employed\n",
    "is $\\theta > 120$ and $r_\\text{H...Acceptor} < 2.5 A$ in\n",
    "at least 10% of the trajectory. The return value is a list of the \n",
    "indices of the atoms (donor, h, acceptor) that satisfy this criteria."
   ]
  },
  {
   "cell_type": "code",
   "execution_count": 5,
   "metadata": {},
   "outputs": [
    {
     "name": "stdout",
     "output_type": "stream",
     "text": [
      "GLU1-N -- GLU1-OE2\n",
      "GLU1-N -- GLU1-OE1\n",
      "GLY6-N -- SER4-O\n",
      "CYS7-N -- GLY5-O\n",
      "TYR11-N -- VAL8-O\n",
      "MET12-N -- LYS20-O\n",
      "ARG13-NH1 -- TYR11-O\n",
      "THR14-N -- ARG18-O\n",
      "ASP16-N -- ASP16-OD1\n",
      "GLY17-N -- THR14-O\n",
      "ARG18-N -- THR14-OG1\n",
      "ARG18-NE -- ASP16-OD2\n",
      "LYS20-N -- MET12-O\n",
      "THR22-N -- GLY10-O\n",
      "THR14-OG1 -- ASP16-OD1\n",
      "THR28-OG1 -- ILE27-O\n"
     ]
    }
   ],
   "source": [
    "hbonds = md.baker_hubbard(t, periodic=False)\n",
    "label = lambda hbond: \"{} -- {}\".format(\n",
    "    t.topology.atom(hbond[0]),\n",
    "    t.topology.atom(hbond[2]),\n",
    ")\n",
    "for hbond in hbonds:\n",
    "    print(label(hbond))"
   ]
  },
  {
   "cell_type": "markdown",
   "metadata": {},
   "source": [
    "Let's compute the actual distances between the donors and acceptors"
   ]
  },
  {
   "cell_type": "code",
   "execution_count": 6,
   "metadata": {},
   "outputs": [],
   "source": [
    "da_distances = md.compute_distances(t, hbonds[:, [0, 2]], periodic=False)"
   ]
  },
  {
   "cell_type": "markdown",
   "metadata": {},
   "source": [
    "And plot a histogram for a few of them"
   ]
  },
  {
   "cell_type": "code",
   "execution_count": 7,
   "metadata": {},
   "outputs": [
    {
     "data": {
      "text/plain": [
       "Text(0.5, 0, 'Donor-acceptor distance [nm]')"
      ]
     },
     "execution_count": 7,
     "metadata": {},
     "output_type": "execute_result"
    },
    {
     "data": {
      "image/png": "[encoded data removed]",
      "text/plain": [
       "<Figure size 640x480 with 1 Axes>"
      ]
     },
     "metadata": {},
     "output_type": "display_data"
    }
   ],
   "source": [
    "color = itertools.cycle([\"r\", \"b\", \"gold\"])\n",
    "for i in [2, 3, 4]:\n",
    "    plt.hist(da_distances[:, i], color=next(color), label=label(hbonds[i]), alpha=0.5)\n",
    "plt.legend()\n",
    "plt.ylabel(\"Freq\")\n",
    "plt.xlabel(\"Donor-acceptor distance [nm]\")"
   ]
  }
 ],
 "metadata": {
  "kernelspec": {
   "display_name": "Python 3",
   "language": "python",
   "name": "python3"
  },
  "language_info": {
   "codemirror_mode": {
    "name": "ipython",
    "version": 3
   },
   "file_extension": ".py",
   "mimetype": "text/x-python",
   "name": "python",
   "nbconvert_exporter": "python",
   "pygments_lexer": "ipython3",
   "version": "3.10.12"
  }
 },
 "nbformat": 4,
 "nbformat_minor": 0
}
