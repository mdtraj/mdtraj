{
 "cells": [
  {
   "cell_type": "markdown",
   "metadata": {},
   "source": [
    "# Pi-Stacking Identification\n"
   ]
  },
  {
   "cell_type": "markdown",
   "metadata": {},
   "source": [
    "## Pi Stacking Analysis on PDB 4BFQ \n",
    "\n",
    "In this first example, we show pi stacking analysis on the PDB structure [4BFQ](https://www.rcsb.org/structure/4BFQ). 4BFQ has two pi-stacking interactions between a ligand (resSeq 301) and Y186. \n",
    "\n",
    "Both aromatic residues on the ligand are placed in such a way that the TYR phenol stacks with them.\n",
    "\n",
    "Before we show the MDTraj analysis, we will use [py3dmol](https://3dmol.org/) to visualize the structure.\n",
    "\n",
    "In the visualization below, we will highlight the following:\n",
    "\n",
    "* In silver: The protein\n",
    "* In light steel blue: Ligands with name \"083\"\n",
    "* In green: The tyrosine residue on the protein.\n",
    "* In magenta: One ring on an 083 ligand we will be analyzing. The atoms are C16, C17, C18, C19, C20, C21. (pi stacks with TYR)\n",
    "* In cyan: Another ring on an 083 ligand we will be analyzing. The atoms are N4 C9 C15, C16, C21, and C8. (pi stacks with TYR)\n",
    "* In yellow: The third ring on an 083 ligand we will be analyzing. The atoms are N5, C10, C11, C12, C13, C14. (does not stack with TYR)\n"
   ]
  },
  {
   "cell_type": "code",
   "execution_count": 1,
   "metadata": {},
   "outputs": [
    {
     "data": {
      "application/3dmoljs_load.v0": "<div id=\"3dmolviewer_17464823838708847\"  style=\"position: relative; width: 800px; height: 600px;\">\n        <p id=\"3dmolwarning_17464823838708847\" style=\"background-color:#ffcccc;color:black\">3Dmol.js failed to load for some reason.  Please check your browser console for error messages.<br></p>\n        </div>\n<script>\n\nvar loadScriptAsync = function(uri){\n  return new Promise((resolve, reject) => {\n    //this is to ignore the existence of requirejs amd\n    var savedexports, savedmodule;\n    if (typeof exports !== 'undefined') savedexports = exports;\n    else exports = {}\n    if (typeof module !== 'undefined') savedmodule = module;\n    else module = {}\n\n    var tag = document.createElement('script');\n    tag.src = uri;\n    tag.async = true;\n    tag.onload = () => {\n        exports = savedexports;\n        module = savedmodule;\n        resolve();\n    };\n  var firstScriptTag = document.getElementsByTagName('script')[0];\n  firstScriptTag.parentNode.insertBefore(tag, firstScriptTag);\n});\n};\n\nif(typeof $3Dmolpromise === 'undefined') {\n$3Dmolpromise = null;\n  $3Dmolpromise = loadScriptAsync('https://cdnjs.cloudflare.com/ajax/libs/3Dmol/2.4.2/3Dmol-min.js');\n}\n\nvar viewer_17464823838708847 = null;\nvar warn = document.getElementById(\"3dmolwarning_17464823838708847\");\nif(warn) {\n    warn.parentNode.removeChild(warn);\n}\n$3Dmolpromise.then(function() {\nviewer_17464823838708847 = $3Dmol.createViewer(document.getElementById(\"3dmolviewer_17464823838708847\"),{backgroundColor:\"white\"});\n$3Dmol.download(\"pdb:4BFQ\", viewer_17464823838708847, {}, function() {\nviewer_17464823838708847.zoomTo();\n\tviewer_17464823838708847.setStyle({\"cartoon\": {\"color\": \"silver\"}});\n\tviewer_17464823838708847.addStyle({\"chain\": \"E\", \"resi\": \"186\"},{\"stick\": {\"color\": \"#00FF00\", \"radius\": 0.2}});\n\tviewer_17464823838708847.addStyle({\"chain\": \"E\", \"resn\": \"083\"},{\"stick\": {\"color\": \"lightsteelblue\", \"radius\": 0.15}});\n\tviewer_17464823838708847.addStyle({\"chain\": \"E\", \"resn\": \"083\", \"resi\": \"301\", \"atom\": [\"C16\", \"C17\", \"C18\", \"C19\", \"C20\", \"C21\"]},{\"stick\": {\"color\": \"magenta\", \"radius\": 0.2}});\n\tviewer_17464823838708847.addStyle({\"chain\": \"E\", \"resn\": \"083\", \"resi\": \"301\", \"atom\": [\"N4\", \"C9\", \"C15\", \"C16\", \"C21\", \"C8\"]},{\"stick\": {\"color\": \"cyan\", \"radius\": 0.2}});\n\tviewer_17464823838708847.addStyle({\"chain\": \"E\", \"resn\": \"083\", \"resi\": \"301\", \"atom\": [\"N5\", \"C10\", \"C11\", \"C12\", \"C13\", \"C14\"]},{\"stick\": {\"color\": \"yellow\", \"radius\": 0.2}});\n\tviewer_17464823838708847.zoomTo({\"chain\": \"E\", \"resn\": \"083\", \"resi\": \"301\"});\n\tviewer_17464823838708847.rotate(90,\"y\");\n\tviewer_17464823838708847.rotate(90,\"x\");\nviewer_17464823838708847.render();\n})\n});\n</script>",
      "text/html": [
       "<div id=\"3dmolviewer_17464823838708847\"  style=\"position: relative; width: 800px; height: 600px;\">\n",
       "        <p id=\"3dmolwarning_17464823838708847\" style=\"background-color:#ffcccc;color:black\">3Dmol.js failed to load for some reason.  Please check your browser console for error messages.<br></p>\n",
       "        </div>\n",
       "<script>\n",
       "\n",
       "var loadScriptAsync = function(uri){\n",
       "  return new Promise((resolve, reject) => {\n",
       "    //this is to ignore the existence of requirejs amd\n",
       "    var savedexports, savedmodule;\n",
       "    if (typeof exports !== 'undefined') savedexports = exports;\n",
       "    else exports = {}\n",
       "    if (typeof module !== 'undefined') savedmodule = module;\n",
       "    else module = {}\n",
       "\n",
       "    var tag = document.createElement('script');\n",
       "    tag.src = uri;\n",
       "    tag.async = true;\n",
       "    tag.onload = () => {\n",
       "        exports = savedexports;\n",
       "        module = savedmodule;\n",
       "        resolve();\n",
       "    };\n",
       "  var firstScriptTag = document.getElementsByTagName('script')[0];\n",
       "  firstScriptTag.parentNode.insertBefore(tag, firstScriptTag);\n",
       "});\n",
       "};\n",
       "\n",
       "if(typeof $3Dmolpromise === 'undefined') {\n",
       "$3Dmolpromise = null;\n",
       "  $3Dmolpromise = loadScriptAsync('https://cdnjs.cloudflare.com/ajax/libs/3Dmol/2.4.2/3Dmol-min.js');\n",
       "}\n",
       "\n",
       "var viewer_17464823838708847 = null;\n",
       "var warn = document.getElementById(\"3dmolwarning_17464823838708847\");\n",
       "if(warn) {\n",
       "    warn.parentNode.removeChild(warn);\n",
       "}\n",
       "$3Dmolpromise.then(function() {\n",
       "viewer_17464823838708847 = $3Dmol.createViewer(document.getElementById(\"3dmolviewer_17464823838708847\"),{backgroundColor:\"white\"});\n",
       "$3Dmol.download(\"pdb:4BFQ\", viewer_17464823838708847, {}, function() {\n",
       "viewer_17464823838708847.zoomTo();\n",
       "\tviewer_17464823838708847.setStyle({\"cartoon\": {\"color\": \"silver\"}});\n",
       "\tviewer_17464823838708847.addStyle({\"chain\": \"E\", \"resi\": \"186\"},{\"stick\": {\"color\": \"#00FF00\", \"radius\": 0.2}});\n",
       "\tviewer_17464823838708847.addStyle({\"chain\": \"E\", \"resn\": \"083\"},{\"stick\": {\"color\": \"lightsteelblue\", \"radius\": 0.15}});\n",
       "\tviewer_17464823838708847.addStyle({\"chain\": \"E\", \"resn\": \"083\", \"resi\": \"301\", \"atom\": [\"C16\", \"C17\", \"C18\", \"C19\", \"C20\", \"C21\"]},{\"stick\": {\"color\": \"magenta\", \"radius\": 0.2}});\n",
       "\tviewer_17464823838708847.addStyle({\"chain\": \"E\", \"resn\": \"083\", \"resi\": \"301\", \"atom\": [\"N4\", \"C9\", \"C15\", \"C16\", \"C21\", \"C8\"]},{\"stick\": {\"color\": \"cyan\", \"radius\": 0.2}});\n",
       "\tviewer_17464823838708847.addStyle({\"chain\": \"E\", \"resn\": \"083\", \"resi\": \"301\", \"atom\": [\"N5\", \"C10\", \"C11\", \"C12\", \"C13\", \"C14\"]},{\"stick\": {\"color\": \"yellow\", \"radius\": 0.2}});\n",
       "\tviewer_17464823838708847.zoomTo({\"chain\": \"E\", \"resn\": \"083\", \"resi\": \"301\"});\n",
       "\tviewer_17464823838708847.rotate(90,\"y\");\n",
       "\tviewer_17464823838708847.rotate(90,\"x\");\n",
       "viewer_17464823838708847.render();\n",
       "})\n",
       "});\n",
       "</script>"
      ]
     },
     "metadata": {},
     "output_type": "display_data"
    }
   ],
   "source": [
    "import py3Dmol\n",
    "\n",
    "# Load the PDB structure from the RCSB PDB database\n",
    "viewer = py3Dmol.view(query=\"pdb:4BFQ\", width=800, height=600)\n",
    "\n",
    "# Style the entire protein as silver cartoon\n",
    "viewer.setStyle({\"cartoon\": {\"color\": \"silver\"}})\n",
    "\n",
    "# Make residue 186 on chain E visible as bright green sticks\n",
    "viewer.addStyle({\"chain\": \"E\", \"resi\": \"186\"}, \n",
    "                {\"stick\": {\"color\": \"#00FF00\", \"radius\": 0.2}}) \n",
    "\n",
    "# Make all of residue 083 visible as sticks\n",
    "viewer.addStyle({\"chain\": \"E\", \"resn\": \"083\"}, \n",
    "                {\"stick\": {\"color\": \"lightsteelblue\", \"radius\": 0.15}})\n",
    "\n",
    "# First highlight group in magenta (pi-stacking)\n",
    "viewer.addStyle({\"chain\": \"E\", \"resn\": \"083\", \"resi\": \"301\",\n",
    "                 \"atom\": [\"C16\", \"C17\", \"C18\", \"C19\", \"C20\", \"C21\"]}, \n",
    "                {\"stick\": {\"color\": \"magenta\", \"radius\": 0.2}})\n",
    "\n",
    "# Second highlight group in cyan (pi-stacking)\n",
    "viewer.addStyle({\"chain\": \"E\", \"resn\": \"083\", \"resi\": \"301\",\n",
    "                 \"atom\": [\"N4\", \"C9\", \"C15\", \"C16\", \"C21\", \"C8\"]}, \n",
    "                {\"stick\": {\"color\": \"cyan\", \"radius\": 0.2}})\n",
    "\n",
    "# Third highlight group in yellow (NOT pi-stacking)\n",
    "viewer.addStyle({\"chain\": \"E\", \"resn\": \"083\", \"resi\": \"301\",\n",
    "                 \"atom\": [\"N5\", \"C10\", \"C11\", \"C12\", \"C13\", \"C14\"]}, \n",
    "                {\"stick\": {\"color\": \"yellow\", \"radius\": 0.2}})\n",
    "\n",
    "# Set the zoom level to focus on our selections\n",
    "viewer.zoomTo({\"chain\": \"E\", \"resn\": \"083\", \"resi\": \"301\"})\n",
    "\n",
    "viewer.rotate(90, \"y\")  \n",
    "viewer.rotate(90, \"x\") \n",
    "# Show the viewer\n",
    "viewer.show()"
   ]
  },
  {
   "cell_type": "markdown",
   "metadata": {},
   "source": [
    "The rings highlighted in magenta and cyan are expected to stack with the TYR residue, while the ring in yellow is not expected to stack with the TYR residue."
   ]
  },
  {
   "cell_type": "code",
   "execution_count": 2,
   "metadata": {},
   "outputs": [],
   "source": [
    "import mdtraj as md"
   ]
  },
  {
   "cell_type": "markdown",
   "metadata": {},
   "source": [
    "Next, we load the structure from the PDB using MDTraj."
   ]
  },
  {
   "cell_type": "code",
   "execution_count": 3,
   "metadata": {},
   "outputs": [
    {
     "name": "stdout",
     "output_type": "stream",
     "text": [
      "<mdtraj.Trajectory with 1 frames, 8693 atoms, 1169 residues, and unitcells>\n"
     ]
    }
   ],
   "source": [
    "t = md.load_pdb(\"http://www.rcsb.org/pdb/files/4BFQ.pdb\")\n",
    "print(t)"
   ]
  },
  {
   "cell_type": "markdown",
   "metadata": {},
   "source": [
    "The md.pi_stacking method requires pre-identification of the aromatic residues that one would like to measure pi-stacks between. As such, one must identify aromatic substructures on both, e.g. a ligand of interest and a protein of interest.\n",
    "\n",
    "We can use the selection language to identify the atom indices of the particular ligand atom indices:\n"
   ]
  },
  {
   "cell_type": "code",
   "execution_count": 4,
   "metadata": {},
   "outputs": [
    {
     "name": "stdout",
     "output_type": "stream",
     "text": [
      "lig_grps=[(8192, 8193, 8194, 8195, 8196, 8197), (8191, 8192, 8197, 8198, 8199, 8200), (8201, 8202, 8203, 8204, 8205, 8206)]\n"
     ]
    }
   ],
   "source": [
    "lig_aromatic_atms_to_test = [\n",
    "    (\"C16\", \"C17\", \"C18\", \"C19\", \"C20\", \"C21\"),  # pi-stacking\n",
    "    (\"N4\", \"C9\", \"C15\", \"C16\", \"C21\", \"C8\"),  # pi-stacking\n",
    "    (\"N5\", \"C10\", \"C11\", \"C12\", \"C13\", \"C14\"),  # NOT pi-stacking\n",
    "]\n",
    "lig_grps = []\n",
    "for lig_grp in lig_aromatic_atms_to_test:\n",
    "    lig_grps.append(\n",
    "        tuple(\n",
    "            int(idx)\n",
    "            for idx in t.top.select(\n",
    "                f\"chainid 5 and resSeq 301 and (name {lig_grp[0]} or name {' or name '.join(lig_grp[1:])})\"\n",
    "            )\n",
    "        )\n",
    "    )\n",
    "print(f\"{lig_grps=}\")"
   ]
  },
  {
   "cell_type": "markdown",
   "metadata": {},
   "source": [
    "Let's also get the atom indices of the aromatic atoms in the sidechain of TYR 186\n"
   ]
  },
  {
   "cell_type": "code",
   "execution_count": 5,
   "metadata": {},
   "outputs": [
    {
     "name": "stdout",
     "output_type": "stream",
     "text": [
      "protein_grps=[(1472, 1473, 1474, 1475, 1476, 1477)]\n"
     ]
    }
   ],
   "source": [
    "protein_grps = []\n",
    "# TYR186\n",
    "protein_stacking_atms = [(\"CE2\", \"CD2\", \"CG\", \"CD1\", \"CE1\", \"CZ\")]\n",
    "for protein_grp in protein_stacking_atms:\n",
    "    protein_grps.append(\n",
    "        tuple(\n",
    "            int(idx)\n",
    "            for idx in t.top.select(\n",
    "                f\"chainid 0 and resSeq 186 and (name {protein_grp[0]} or name {' or name '.join(protein_grp[1:])})\"\n",
    "            )\n",
    "        )\n",
    "    )\n",
    "print(f\"{protein_grps=}\")"
   ]
  },
  {
   "cell_type": "markdown",
   "metadata": {},
   "source": [
    "Now we can calculate if there is a stacking interaction with each of our protein/ligand groups:\n"
   ]
  },
  {
   "cell_type": "code",
   "execution_count": 6,
   "metadata": {},
   "outputs": [
    {
     "name": "stdout",
     "output_type": "stream",
     "text": [
      "stacking_interactions=[[((8192, 8193, 8194, 8195, 8196, 8197), (1472, 1473, 1474, 1475, 1476, 1477)), ((8191, 8192, 8197, 8198, 8199, 8200), (1472, 1473, 1474, 1475, 1476, 1477))]]\n",
      "frame_num=0\n",
      "[083301-C21, 083301-C20, 083301-C19, 083301-C18, 083301-C17, 083301-C16] <-> [TYR186-CG, TYR186-CD1, TYR186-CD2, TYR186-CE1, TYR186-CE2, TYR186-CZ]\n",
      "[083301-C8, 083301-C21, 083301-C16, 083301-C15, 083301-C9, 083301-N4] <-> [TYR186-CG, TYR186-CD1, TYR186-CD2, TYR186-CE1, TYR186-CE2, TYR186-CZ]\n"
     ]
    }
   ],
   "source": [
    "stacking_interactions = md.pi_stacking(t, lig_grps, protein_grps)\n",
    "print(f\"{stacking_interactions=}\")\n",
    "for frame_num, frame in enumerate(stacking_interactions):\n",
    "    print(f\"{frame_num=}\")\n",
    "    for lig_grp, protein_grp in frame:\n",
    "        print(\n",
    "            f\"{[t.top.atom(atm) for atm in lig_grp]} <-> {[t.top.atom(atm) for atm in protein_grp]}\"\n",
    "        )"
   ]
  },
  {
   "cell_type": "markdown",
   "metadata": {},
   "source": [
    "Note how the ligand group `(\"N5\", \"C10\", \"C11\", \"C12\", \"C13\", \"C14\")` was not found, even though we supplied it as a potential stacking aromatic group, since it didn't meet the geometric criteria for pi-stacking.\n"
   ]
  },
  {
   "cell_type": "markdown",
   "metadata": {},
   "source": [
    "## Analyzing T-Stacking Interactions\n",
    "\n",
    "4BFQ has clear face-to-face pi-stacking interactions. T-stacking (edge-to-face) interactions are also supported in `md.pi_stacking`.\n",
    "\n",
    "Before showing this analysis, we will visualize the structure again using py3Dmol.\n"
   ]
  },
  {
   "cell_type": "code",
   "execution_count": 7,
   "metadata": {},
   "outputs": [
    {
     "data": {
      "application/3dmoljs_load.v0": "<div id=\"3dmolviewer_17464823919618523\"  style=\"position: relative; width: 800px; height: 600px;\">\n        <p id=\"3dmolwarning_17464823919618523\" style=\"background-color:#ffcccc;color:black\">3Dmol.js failed to load for some reason.  Please check your browser console for error messages.<br></p>\n        </div>\n<script>\n\nvar loadScriptAsync = function(uri){\n  return new Promise((resolve, reject) => {\n    //this is to ignore the existence of requirejs amd\n    var savedexports, savedmodule;\n    if (typeof exports !== 'undefined') savedexports = exports;\n    else exports = {}\n    if (typeof module !== 'undefined') savedmodule = module;\n    else module = {}\n\n    var tag = document.createElement('script');\n    tag.src = uri;\n    tag.async = true;\n    tag.onload = () => {\n        exports = savedexports;\n        module = savedmodule;\n        resolve();\n    };\n  var firstScriptTag = document.getElementsByTagName('script')[0];\n  firstScriptTag.parentNode.insertBefore(tag, firstScriptTag);\n});\n};\n\nif(typeof $3Dmolpromise === 'undefined') {\n$3Dmolpromise = null;\n  $3Dmolpromise = loadScriptAsync('https://cdnjs.cloudflare.com/ajax/libs/3Dmol/2.4.2/3Dmol-min.js');\n}\n\nvar viewer_17464823919618523 = null;\nvar warn = document.getElementById(\"3dmolwarning_17464823919618523\");\nif(warn) {\n    warn.parentNode.removeChild(warn);\n}\n$3Dmolpromise.then(function() {\nviewer_17464823919618523 = $3Dmol.createViewer(document.getElementById(\"3dmolviewer_17464823919618523\"),{backgroundColor:\"white\"});\n$3Dmol.download(\"pdb:6A22\", viewer_17464823919618523, {}, function() {\nviewer_17464823919618523.zoomTo();\n\tviewer_17464823919618523.setStyle({\"cartoon\": {\"color\": \"silver\"}});\n\tviewer_17464823919618523.addStyle({\"chain\": \"C\", \"resi\": \"9000\"},{\"stick\": {\"color\": \"lightsteelblue\", \"radius\": 0.2}});\n\tviewer_17464823919618523.addStyle({\"chain\": \"C\", \"resi\": \"9000\", \"atom\": [\"S10\", \"C9\", \"C8\", \"N7\", \"C6\"]},{\"stick\": {\"color\": \"magenta\", \"radius\": 0.2}});\n\tviewer_17464823919618523.addStyle({\"chain\": \"C\", \"resi\": \"9000\", \"atom\": [\"C14\", \"C15\", \"C16\", \"C17\", \"C18\", \"C19\"]},{\"stick\": {\"color\": \"yellow\", \"radius\": 0.2}});\n\tviewer_17464823919618523.addStyle({\"chain\": \"C\", \"resi\": \"378\"},{\"stick\": {\"color\": \"#00FF00\", \"radius\": 0.2}});\n\tviewer_17464823919618523.zoomTo({\"chain\": \"C\", \"resi\": \"9000\"});\n\tviewer_17464823919618523.rotate(95,\"y\");\n\tviewer_17464823919618523.rotate(150,\"x\");\nviewer_17464823919618523.render();\n})\n});\n</script>",
      "text/html": [
       "<div id=\"3dmolviewer_17464823919618523\"  style=\"position: relative; width: 800px; height: 600px;\">\n",
       "        <p id=\"3dmolwarning_17464823919618523\" style=\"background-color:#ffcccc;color:black\">3Dmol.js failed to load for some reason.  Please check your browser console for error messages.<br></p>\n",
       "        </div>\n",
       "<script>\n",
       "\n",
       "var loadScriptAsync = function(uri){\n",
       "  return new Promise((resolve, reject) => {\n",
       "    //this is to ignore the existence of requirejs amd\n",
       "    var savedexports, savedmodule;\n",
       "    if (typeof exports !== 'undefined') savedexports = exports;\n",
       "    else exports = {}\n",
       "    if (typeof module !== 'undefined') savedmodule = module;\n",
       "    else module = {}\n",
       "\n",
       "    var tag = document.createElement('script');\n",
       "    tag.src = uri;\n",
       "    tag.async = true;\n",
       "    tag.onload = () => {\n",
       "        exports = savedexports;\n",
       "        module = savedmodule;\n",
       "        resolve();\n",
       "    };\n",
       "  var firstScriptTag = document.getElementsByTagName('script')[0];\n",
       "  firstScriptTag.parentNode.insertBefore(tag, firstScriptTag);\n",
       "});\n",
       "};\n",
       "\n",
       "if(typeof $3Dmolpromise === 'undefined') {\n",
       "$3Dmolpromise = null;\n",
       "  $3Dmolpromise = loadScriptAsync('https://cdnjs.cloudflare.com/ajax/libs/3Dmol/2.4.2/3Dmol-min.js');\n",
       "}\n",
       "\n",
       "var viewer_17464823919618523 = null;\n",
       "var warn = document.getElementById(\"3dmolwarning_17464823919618523\");\n",
       "if(warn) {\n",
       "    warn.parentNode.removeChild(warn);\n",
       "}\n",
       "$3Dmolpromise.then(function() {\n",
       "viewer_17464823919618523 = $3Dmol.createViewer(document.getElementById(\"3dmolviewer_17464823919618523\"),{backgroundColor:\"white\"});\n",
       "$3Dmol.download(\"pdb:6A22\", viewer_17464823919618523, {}, function() {\n",
       "viewer_17464823919618523.zoomTo();\n",
       "\tviewer_17464823919618523.setStyle({\"cartoon\": {\"color\": \"silver\"}});\n",
       "\tviewer_17464823919618523.addStyle({\"chain\": \"C\", \"resi\": \"9000\"},{\"stick\": {\"color\": \"lightsteelblue\", \"radius\": 0.2}});\n",
       "\tviewer_17464823919618523.addStyle({\"chain\": \"C\", \"resi\": \"9000\", \"atom\": [\"S10\", \"C9\", \"C8\", \"N7\", \"C6\"]},{\"stick\": {\"color\": \"magenta\", \"radius\": 0.2}});\n",
       "\tviewer_17464823919618523.addStyle({\"chain\": \"C\", \"resi\": \"9000\", \"atom\": [\"C14\", \"C15\", \"C16\", \"C17\", \"C18\", \"C19\"]},{\"stick\": {\"color\": \"yellow\", \"radius\": 0.2}});\n",
       "\tviewer_17464823919618523.addStyle({\"chain\": \"C\", \"resi\": \"378\"},{\"stick\": {\"color\": \"#00FF00\", \"radius\": 0.2}});\n",
       "\tviewer_17464823919618523.zoomTo({\"chain\": \"C\", \"resi\": \"9000\"});\n",
       "\tviewer_17464823919618523.rotate(95,\"y\");\n",
       "\tviewer_17464823919618523.rotate(150,\"x\");\n",
       "viewer_17464823919618523.render();\n",
       "})\n",
       "});\n",
       "</script>"
      ]
     },
     "metadata": {},
     "output_type": "display_data"
    }
   ],
   "source": [
    "import py3Dmol\n",
    "\n",
    "# Load the PDB structure from the RCSB PDB database\n",
    "viewer = py3Dmol.view(query=\"pdb:6A22\", width=800, height=600)\n",
    "\n",
    "# Style the entire protein as silver cartoon\n",
    "viewer.setStyle({\"cartoon\": {\"color\": \"silver\"}})\n",
    "\n",
    "# Make the whole ligand visible as sticks\n",
    "viewer.addStyle({\"chain\": \"C\", \"resi\": \"9000\"}, \n",
    "                {\"stick\": {\"color\": \"lightsteelblue\", \"radius\": 0.2}})\n",
    "\n",
    "# First ligand group (Ring 1) in magenta (t-stacking, edge-to-face with PHE)\n",
    "viewer.addStyle({\"chain\": \"C\", \"resi\": \"9000\",\n",
    "                 \"atom\": [\"S10\", \"C9\", \"C8\", \"N7\", \"C6\"]}, \n",
    "                {\"stick\": {\"color\": \"magenta\", \"radius\": 0.2}})\n",
    "\n",
    "# Second ligand group (Ring 2) in yellow (NOT pi-stacking)\n",
    "viewer.addStyle({\"chain\": \"C\", \"resi\": \"9000\",\n",
    "                 \"atom\": [\"C14\", \"C15\", \"C16\", \"C17\", \"C18\", \"C19\"]}, \n",
    "                {\"stick\": {\"color\": \"yellow\", \"radius\": 0.2}})\n",
    "\n",
    "# Highlight the PHE residue 378 in green\n",
    "viewer.addStyle({\"chain\": \"C\", \"resi\": \"378\"}, \n",
    "                {\"stick\": {\"color\": \"#00FF00\", \"radius\": 0.2}})\n",
    "\n",
    "# Zoom specifically to the green PHE residue\n",
    "viewer.zoomTo({\"chain\": \"C\", \"resi\": \"9000\"})\n",
    "\n",
    "# Apply rotation after zooming\n",
    "viewer.rotate(95, \"y\")\n",
    "viewer.rotate(150, \"x\")\n",
    "\n",
    "# Show the viewer\n",
    "viewer.show()"
   ]
  },
  {
   "cell_type": "code",
   "execution_count": 8,
   "metadata": {},
   "outputs": [
    {
     "name": "stdout",
     "output_type": "stream",
     "text": [
      "<mdtraj.Trajectory with 1 frames, 8066 atoms, 1064 residues, and unitcells>\n"
     ]
    }
   ],
   "source": [
    "t = md.load_pdb(\"http://www.rcsb.org/pdb/files/6A22.pdb\")\n",
    "print(t)"
   ]
  },
  {
   "cell_type": "code",
   "execution_count": null,
   "metadata": {},
   "outputs": [
    {
     "name": "stdout",
     "output_type": "stream",
     "text": [
      "lig_grps=[(7879, 7882, 7883, 7900, 7901), (7887, 7888, 7903, 7904, 7905, 7908)]\n",
      "protein_grps=[(2922, 2923, 2924, 2925, 2926, 2927)]\n"
     ]
    }
   ],
   "source": [
    "lig_aromatic_atms_to_test = [\n",
    "    (\"S10\", \"C9\", \"C8\", \"N7\", \"C6\"),  # t-stacking, edge-to-face with PHR, shown in magenta in the visualization\n",
    "    (\"C14\", \"C15\", \"C16\", \"C17\", \"C18\", \"C19\"),  # NOT pi-stacking shown in yellow in the visualization\n",
    "]\n",
    "lig_grps = []\n",
    "for lig_grp in lig_aromatic_atms_to_test:\n",
    "    lig_grps.append(\n",
    "        tuple(\n",
    "            int(idx)\n",
    "            for idx in t.top.select(\n",
    "                f\"chainid 9 and resSeq 9000 and (name {lig_grp[0]} or name {' or name '.join(lig_grp[1:])})\"\n",
    "            )\n",
    "        )\n",
    "    )\n",
    "protein_grps = []\n",
    "# PHR118/378\n",
    "protein_stacking_atms = [(\"CE2\", \"CD2\", \"CG\", \"CD1\", \"CE1\", \"CZ\")]\n",
    "for protein_grp in protein_stacking_atms:\n",
    "    protein_grps.append(\n",
    "        tuple(\n",
    "            int(idx)\n",
    "            for idx in t.top.select(\n",
    "                f\"chainid 2 and resSeq 378 and (name {protein_grp[0]} or name {' or name '.join(protein_grp[1:])})\"\n",
    "            )\n",
    "        )\n",
    "    )\n",
    "print(f\"{lig_grps=}\")\n",
    "print(f\"{protein_grps=}\")"
   ]
  },
  {
   "cell_type": "code",
   "execution_count": 10,
   "metadata": {},
   "outputs": [
    {
     "name": "stdout",
     "output_type": "stream",
     "text": [
      "stacking_interactions=[[((7879, 7882, 7883, 7900, 7901), (2922, 2923, 2924, 2925, 2926, 2927))]]\n",
      "frame_num=0\n",
      "[9P69000-C6, 9P69000-C8, 9P69000-C9, 9P69000-N7, 9P69000-S10] <-> [PHE378-CG, PHE378-CD1, PHE378-CD2, PHE378-CE1, PHE378-CE2, PHE378-CZ]\n"
     ]
    }
   ],
   "source": [
    "stacking_interactions = md.pi_stacking(t, lig_grps, protein_grps)\n",
    "print(f\"{stacking_interactions=}\")\n",
    "for frame_num, frame in enumerate(stacking_interactions):\n",
    "    print(f\"{frame_num=}\")\n",
    "    for lig_grp, protein_grp in frame:\n",
    "        print(\n",
    "            f\"{[t.top.atom(atm) for atm in lig_grp]} <-> {[t.top.atom(atm) for atm in protein_grp]}\"\n",
    "        )"
   ]
  }
 ],
 "metadata": {
  "kernelspec": {
   "display_name": "mdtraj-issue",
   "language": "python",
   "name": "python3"
  },
  "language_info": {
   "codemirror_mode": {
    "name": "ipython",
    "version": 3
   },
   "file_extension": ".py",
   "mimetype": "text/x-python",
   "name": "python",
   "nbconvert_exporter": "python",
   "pygments_lexer": "ipython3",
   "version": "3.12.8"
  }
 },
 "nbformat": 4,
 "nbformat_minor": 0
}
