{
 "cells": [
  {
   "cell_type": "markdown",
   "metadata": {},
   "source": [
    "# Calculating NMR observables with `mdtraj.nmr`"
   ]
  },
  {
   "cell_type": "markdown",
   "metadata": {},
   "source": [
    "MDTraj provides convenience functions for predicting various NMR observables such as chemical shifts.  To do this, we provide wrapper functions for the SPARTA+, PPM, and ShiftX2 prediction algorithms.  "
   ]
  },
  {
   "cell_type": "code",
   "execution_count": 1,
   "metadata": {},
   "outputs": [],
   "source": [
    "%matplotlib inline\n",
    "import mdtraj as md"
   ]
  },
  {
   "cell_type": "markdown",
   "metadata": {},
   "source": [
    "Let's load a simple trajectory containing three identical frames of the villin headpiece protein."
   ]
  },
  {
   "cell_type": "code",
   "execution_count": 2,
   "metadata": {},
   "outputs": [],
   "source": [
    "trj = md.load(\"1vii_3frames.pdb\", no_boxchk=True)"
   ]
  },
  {
   "cell_type": "markdown",
   "metadata": {},
   "source": [
    "Now, let's calculate the chemical shifts with the program SPARTA+."
   ]
  },
  {
   "cell_type": "code",
   "execution_count": 3,
   "metadata": {},
   "outputs": [
    {
     "ename": "OSError",
     "evalue": "External command not found. Looked for ['sparta+', 'SPARTA+', 'SPARTA+.linux'] in PATH. `chemical_shifts_spartaplus` requires the external program SPARTA+, available at http://spin.niddk.nih.gov/bax/software/SPARTA+/",
     "output_type": "error",
     "traceback": [
      "\u001b[0;31m---------------------------------------------------------------------------\u001b[0m",
      "\u001b[0;31mOSError\u001b[0m                                   Traceback (most recent call last)",
      "Cell \u001b[0;32mIn[3], line 1\u001b[0m\n\u001b[0;32m----> 1\u001b[0m shifts \u001b[38;5;241m=\u001b[39m \u001b[43mmd\u001b[49m\u001b[38;5;241;43m.\u001b[39;49m\u001b[43mnmr\u001b[49m\u001b[38;5;241;43m.\u001b[39;49m\u001b[43mchemical_shifts_spartaplus\u001b[49m\u001b[43m(\u001b[49m\u001b[43mtrj\u001b[49m\u001b[43m)\u001b[49m\n\u001b[1;32m      2\u001b[0m shifts[\u001b[38;5;241m0\u001b[39m:\u001b[38;5;241m10\u001b[39m]\n",
      "File \u001b[0;32m~/work/src/dev-projs/mdtraj/mdtraj/nmr/shift_wrappers.py:303\u001b[0m, in \u001b[0;36mchemical_shifts_spartaplus\u001b[0;34m(trj, rename_HN)\u001b[0m\n\u001b[1;32m    301\u001b[0m binary \u001b[38;5;241m=\u001b[39m find_executable(SPARTA_PLUS)\n\u001b[1;32m    302\u001b[0m \u001b[38;5;28;01mif\u001b[39;00m binary \u001b[38;5;129;01mis\u001b[39;00m \u001b[38;5;28;01mNone\u001b[39;00m:\n\u001b[0;32m--> 303\u001b[0m     \u001b[38;5;28;01mraise\u001b[39;00m \u001b[38;5;167;01mOSError\u001b[39;00m(\n\u001b[1;32m    304\u001b[0m         \u001b[38;5;124mf\u001b[39m\u001b[38;5;124m\"\u001b[39m\u001b[38;5;124mExternal command not found. Looked for \u001b[39m\u001b[38;5;132;01m{\u001b[39;00mSPARTA_PLUS\u001b[38;5;132;01m}\u001b[39;00m\u001b[38;5;124m in PATH. \u001b[39m\u001b[38;5;124m\"\u001b[39m\n\u001b[1;32m    305\u001b[0m         \u001b[38;5;124m\"\u001b[39m\u001b[38;5;124m`chemical_shifts_spartaplus` requires the external program SPARTA+, available at \u001b[39m\u001b[38;5;124m\"\u001b[39m\n\u001b[1;32m    306\u001b[0m         \u001b[38;5;124m\"\u001b[39m\u001b[38;5;124mhttp://spin.niddk.nih.gov/bax/software/SPARTA+/\u001b[39m\u001b[38;5;124m\"\u001b[39m,\n\u001b[1;32m    307\u001b[0m     )\n\u001b[1;32m    309\u001b[0m names \u001b[38;5;241m=\u001b[39m [\n\u001b[1;32m    310\u001b[0m     \u001b[38;5;124m\"\u001b[39m\u001b[38;5;124mresSeq\u001b[39m\u001b[38;5;124m\"\u001b[39m,\n\u001b[1;32m    311\u001b[0m     \u001b[38;5;124m\"\u001b[39m\u001b[38;5;124mresName\u001b[39m\u001b[38;5;124m\"\u001b[39m,\n\u001b[0;32m   (...)\u001b[0m\n\u001b[1;32m    318\u001b[0m     \u001b[38;5;124m\"\u001b[39m\u001b[38;5;124mSIGMA\u001b[39m\u001b[38;5;124m\"\u001b[39m,\n\u001b[1;32m    319\u001b[0m ]\n\u001b[1;32m    321\u001b[0m \u001b[38;5;28;01mwith\u001b[39;00m enter_temp_directory():\n",
      "\u001b[0;31mOSError\u001b[0m: External command not found. Looked for ['sparta+', 'SPARTA+', 'SPARTA+.linux'] in PATH. `chemical_shifts_spartaplus` requires the external program SPARTA+, available at http://spin.niddk.nih.gov/bax/software/SPARTA+/"
     ]
    }
   ],
   "source": [
    "shifts = md.nmr.chemical_shifts_spartaplus(trj)\n",
    "shifts[0:10]"
   ]
  },
  {
   "cell_type": "markdown",
   "metadata": {},
   "source": [
    "The data is returned as a Pandas Dataframe object. The rows correspond to the residue numbers and atom names, while each column corresponds to a different frame in your trajectory.  Note that here our input had completely identical conformations in each frame, so we see identical values along each row."
   ]
  }
 ],
 "metadata": {
  "kernelspec": {
   "display_name": "Python 3",
   "language": "python",
   "name": "python3"
  },
  "language_info": {
   "codemirror_mode": {
    "name": "ipython",
    "version": 3
   },
   "file_extension": ".py",
   "mimetype": "text/x-python",
   "name": "python",
   "nbconvert_exporter": "python",
   "pygments_lexer": "ipython3",
   "version": "3.10.12"
  }
 },
 "nbformat": 4,
 "nbformat_minor": 0
}
