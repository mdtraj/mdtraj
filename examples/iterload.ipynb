{
 "cells": [
  {
   "cell_type": "markdown",
   "metadata": {},
   "source": [
    "# Out-of-core calculations with `md.iterload`"
   ]
  },
  {
   "cell_type": "code",
   "execution_count": 1,
   "metadata": {},
   "outputs": [],
   "source": [
    "import mdtraj as md\n",
    "import numpy as np\n",
    "\n",
    "np.set_printoptions(threshold=50)"
   ]
  },
  {
   "cell_type": "markdown",
   "metadata": {},
   "source": [
    "Sometimes your molecular dynamics trajectory files are too large to\n",
    "fit into memory. This can make analysis a burden, because you have to\n",
    "be very aware of the size of various objects. This can be a challenge\n",
    "in python because of the language's automatic memory management.\n",
    "\n",
    "Fortunately, python provides the iterator protocol that can help\n",
    "us out here. We can \"stream through\" a trajectory, without loading\n",
    "the entire thing into memory at all. Instead, we'll process it in\n",
    "chunks.\n",
    "\n",
    "For the purpose of this example, we'll use a short trajectory\n",
    "that's included with MDTraj for testing purposes. When you use this\n",
    "recipe yourself, you probably will want to point your code to your\n",
    "own trajectory file"
   ]
  },
  {
   "cell_type": "code",
   "execution_count": 2,
   "metadata": {},
   "outputs": [],
   "source": [
    "traj_filename = \"data/frame0.h5\""
   ]
  },
  {
   "cell_type": "markdown",
   "metadata": {},
   "source": [
    "First, if you only want a single frame of a trajectory, there's no reason\n",
    "to load up the whole thing. `md.load_frame` can load up a single\n",
    "frame for you. Let's get the first one."
   ]
  },
  {
   "cell_type": "code",
   "execution_count": 3,
   "metadata": {},
   "outputs": [
    {
     "data": {
      "text/plain": [
       "<mdtraj.Trajectory with 1 frames, 22 atoms, 3 residues, and unitcells at 0x168ba2b00>"
      ]
     },
     "execution_count": 3,
     "metadata": {},
     "output_type": "execute_result"
    }
   ],
   "source": [
    "first_frame = md.load_frame(traj_filename, 0)\n",
    "first_frame"
   ]
  },
  {
   "cell_type": "markdown",
   "metadata": {},
   "source": [
    "Using `md.iterload`, you can iterate through chunks\n",
    "of the trajectory. If you don't retain a reference to the chunk\n",
    "as you iterate through, then the python garbage collector can recycle\n",
    "the memory."
   ]
  },
  {
   "cell_type": "code",
   "execution_count": 4,
   "metadata": {},
   "outputs": [
    {
     "name": "stdout",
     "output_type": "stream",
     "text": [
      "<mdtraj.Trajectory with 100 frames, 22 atoms, 3 residues, and unitcells> \n",
      " [500.00003 501.00003 502.00003 ... 597.      598.      599.     ]\n",
      "<mdtraj.Trajectory with 100 frames, 22 atoms, 3 residues, and unitcells> \n",
      " [600.      601.      602.      ... 697.00006 698.00006 699.00006]\n",
      "<mdtraj.Trajectory with 100 frames, 22 atoms, 3 residues, and unitcells> \n",
      " [700.00006 701.00006 702.00006 ... 797.00006 798.00006 799.00006]\n",
      "<mdtraj.Trajectory with 100 frames, 22 atoms, 3 residues, and unitcells> \n",
      " [800.00006 801.00006 802.00006 ... 897.00006 898.00006 899.00006]\n",
      "<mdtraj.Trajectory with 100 frames, 22 atoms, 3 residues, and unitcells> \n",
      " [900.00006 901.00006 902.00006 ... 997.00006 998.00006 999.00006]\n",
      "<mdtraj.Trajectory with 1 frames, 22 atoms, 3 residues, and unitcells> \n",
      " [1000.00006]\n"
     ]
    }
   ],
   "source": [
    "rmsds = []\n",
    "for chunk in md.iterload(traj_filename, chunk=100):\n",
    "    rmsds.append(md.rmsd(chunk, first_frame))\n",
    "    print(chunk, \"\\n\", chunk.time)"
   ]
  },
  {
   "cell_type": "markdown",
   "metadata": {},
   "source": [
    "Now, we've calculated all of the rmsds chunk by chunk, and we\n",
    "can take a look at them."
   ]
  },
  {
   "cell_type": "code",
   "execution_count": 5,
   "metadata": {},
   "outputs": [
    {
     "name": "stdout",
     "output_type": "stream",
     "text": [
      "[0.         0.05957904 0.12331477 ... 0.12567955 0.08629464 0.14820947]\n",
      "max rmsd  0.18972313 at index 44\n"
     ]
    }
   ],
   "source": [
    "rmsds = np.concatenate(rmsds)\n",
    "\n",
    "print(rmsds)\n",
    "print(\"max rmsd \", np.max(rmsds), \"at index\", np.argmax(rmsds))"
   ]
  }
 ],
 "metadata": {
  "kernelspec": {
   "display_name": "Python",
   "language": "python",
   "name": "python3"
  },
  "language_info": {
   "codemirror_mode": {
    "name": "ipython",
    "version": 3
   },
   "file_extension": ".py",
   "mimetype": "text/x-python",
   "name": "python",
   "nbconvert_exporter": "python",
   "pygments_lexer": "ipython3",
   "version": "3.10.12"
  }
 },
 "nbformat": 4,
 "nbformat_minor": 1
}
